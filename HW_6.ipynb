{
 "cells": [
  {
   "cell_type": "code",
   "execution_count": 6,
   "metadata": {},
   "outputs": [],
   "source": [
    "import numpy as np\n",
    "from scipy.io import loadmat\n",
    "import matplotlib.pyplot as plt"
   ]
  },
  {
   "cell_type": "markdown",
   "metadata": {},
   "source": [
    "# 1\n",
    "\n",
    "Like other gases, $CO_2$ is soluble in sea water. However, unlike other gases, $CO_2$ reacts with water to form free protons and conjugate bases.  The chemical reaction below explains the $CO_2$ hydration process:\n",
    "\n",
    "$CO_{2(gas)} + H_2O \\longleftrightarrow H_2CO_3^*$\n",
    "\n",
    "The reaction above happens extremely quickly. The proton donor, $H_2CO_3^*$, dissociates in two steps to form bicarbonate and carbonate:\n",
    "\n",
    "$H_2CO_3^* --> H^+ + HCO_3^-$\n",
    "\n",
    "$HCO_3^- --> H^+ + CO_3^{2-}$\n",
    "\n",
    "The pH of the ocean is about 8. At this pH, the concentration of $HCO_3^-$ (bicarbonate ion) is much higher than the concentrations of $H_2CO_3^*$ and $CO_3^{2-}$ (carbonate ion). In fact, 0.5% of the dissolved carbon in the ocean exists in the form of $H_2CO_3^*$, 10.9% exists in the form of carbonate, and 88.6% exists in the form of bicarbonate.  Because most of the $CO_2$ in the ocean is converted to bicarbonate, the amount of dissolved $CO_2$ in the ocean is decreased, allowing for more atmospheric diffusion of $CO_2$.  For this reason, there is much more Carbon in the ocean than in the atmosphere."
   ]
  },
  {
   "cell_type": "markdown",
   "metadata": {},
   "source": [
    "# 2\n",
    "\n",
    "The equations below are used to determine the concentrations of carbonic acid, bicarbonate, and carbonate based on the pH, $pCO_2$, and the equilibrium constants:\n",
    "\n",
    "$[H_2CO_3^*] = pCO_2 * K_0$\n",
    "\n",
    "$[HCO_3^-] = \\frac{K_0*K_1*pCO_2}{[H^+]}$\n",
    "\n",
    "$[CO_3^{2-}] = \\frac{K_0*K_1*K_2*pCO_2}{[H^+]^2}$"
   ]
  },
  {
   "cell_type": "code",
   "execution_count": 7,
   "metadata": {},
   "outputs": [
    {
     "name": "stdout",
     "output_type": "stream",
     "text": [
      "The concentration of carbonic acid is 9.730 micro-mol/kg\n",
      "The concentration of bicarbonate is 2023.584 micro-mol/kg\n",
      "The concentration of carbonate is 295.884 micro-mol/kg\n"
     ]
    }
   ],
   "source": [
    "pH = 8.2 #pH of ocean\n",
    "pCO2 = 300*10**(-6) #(atm) partial pressure of CO2\n",
    "pK0 = 1.489\n",
    "pK1 = 5.882\n",
    "pK2 = 9.035\n",
    "K0 = 10**(-pK0) # (mol/kg*atm)\n",
    "K1 = 10**(-pK1) # (mol/kg)\n",
    "K2 = 10**(-pK2) # (mol/kg)\n",
    "\n",
    "H = 10**(-pH)\n",
    "\n",
    "H2CO3 = pCO2*K0*10**6 #concentration carbonic acid\n",
    "HCO3 = ((K0*K1*pCO2)/H)*10**6 #concentration bicarbonate\n",
    "CO3 = ((K0*K1*K2*pCO2)/(H**2))*10**6 #concentration carbonate\n",
    "\n",
    "print(f'The concentration of carbonic acid is {H2CO3:.3f} micro-mol/kg')\n",
    "print(f'The concentration of bicarbonate is {HCO3:.3f} micro-mol/kg')\n",
    "print(f'The concentration of carbonate is {CO3:.3f} micro-mol/kg')"
   ]
  },
  {
   "cell_type": "markdown",
   "metadata": {},
   "source": [
    "# 3\n",
    "The equation below is used to determine the change in $pCO_2$ based on the original $pCO_2$ and a change in temperature:\n",
    "\n",
    "$\\frac{1}{pCO_2}\\frac{\\delta pCO_2}{\\delta T} \\approx 0.0423^\\circ C^{-1}$ "
   ]
  },
  {
   "cell_type": "code",
   "execution_count": 8,
   "metadata": {},
   "outputs": [
    {
     "name": "stdout",
     "output_type": "stream",
     "text": [
      "The change in surface ocean pCO2 due to a 5 degree C temperature drop is -63.450 micro-atm\n"
     ]
    }
   ],
   "source": [
    "pCO2 = 300 #(micro-atm) partial pressure of CO2\n",
    "dT = -5 #(deg C) Temperature drops 5C\n",
    "\n",
    "dpCO2 = 0.0423*dT*pCO2\n",
    "\n",
    "print(f'The change in surface ocean pCO2 due to a 5 degree C temperature drop is {dpCO2:0.3f} micro-atm')"
   ]
  },
  {
   "cell_type": "markdown",
   "metadata": {},
   "source": [
    "# 4\n",
    "\n",
    "Solubility pump - $CO_2$ is more soluble in the cold, high latitude surface and invades the deep ocean through isopycnal transport. This pump contributes to the higher sDIC observed at high latitudes (above 60$^/circ$ N and S) and the deep-ocean intrusions of relatively high sDIC due to isopycnal transport from the high latitudes.\n",
    "\n",
    "Soft tissue pump - The formation of organic matter near the surface reduces DIC and the remineralization of organic matter in the ocean interior increases the DIC.\n",
    "\n",
    "Hard tissue pump - The precipitation of calcium carbonate near the surface reduces DIC and the dissolution of calcium carbonate in the interior increases DIC\n",
    "\n",
    "In the mid-latudes and near the equator, the sDIC concentration generally decreases with depth from the surface to the interior.  This is due to both the soft and hard tissue pumps which decrease sDIC near the surface due to the formation of organic matter (soft pump) and precipitation of calcium carbonate (hard pump) and increase sDIC in the ocean interior due to remineralization (soft pump) and dissolution of calcium carbonate (hard pump)."
   ]
  },
  {
   "cell_type": "markdown",
   "metadata": {},
   "source": [
    "# 5\n",
    "\n",
    "### a\n",
    "In response to calcium carbonate formation, we would expect DIC to decrease, Alkalinity to decrease, and $pCO_2$ to increase.\n",
    "\n",
    "### b\n",
    "\n",
    "The formula for DIC is: $DIC = [H_2CO_3^*] + [HCO_3^-] + [CO_3^{2-}]$.  Thus, if you form 10 mmol of $CaCO_3$ in 1 $m^3$, then you remove 10mmol/$m^3$ of $CO_3^{2-}$. Assuming the other concentrations remain constant, the change in DIC is then -10 mmol/$m^3$.\n",
    "\n",
    "The formula for Alk is: $Alk = [HCO_3^-] + 2[CO_3^{2-}] + [OH^-] - [H^+] + [B(OH)_4^-]$.  Forming 10 mmol of $CaCO_3$ in 1 $m^3$ will remove 10mmol/$m^3$ of $CO_3^{-2}$. Assuming the other concentrations remain constant, the change in Alk is then -20 mmol/$m^3$.\n",
    "\n",
    "### c\n",
    "\n",
    "The equation below is used to determine the partial pressure of CO2:\n",
    "\n",
    "$pCO_2 = \\frac{K_2}{K_0*K_1} \\frac{(2*DIC - Alk)^2}{Alk - DIC}$\n"
   ]
  },
  {
   "cell_type": "code",
   "execution_count": 19,
   "metadata": {},
   "outputs": [
    {
     "name": "stdout",
     "output_type": "stream",
     "text": [
      "The original CO2 partial pressure is 208.822 micro-atm.  The new CO2 partial pressure is 216.023 micro-atm, a 3.448% increase\n"
     ]
    }
   ],
   "source": [
    "pK0 = 1.489\n",
    "pK1 = 5.882\n",
    "pK2 = 9.035\n",
    "K0 = (10**(-pK0)) # (mol/kg*atm)\n",
    "K1 = (10**(-pK1)) # (mol/kg)\n",
    "K2 = (10**(-pK2)) # (mol/kg)\n",
    "\n",
    "DIC = 2000*10**-6 #mol/m^3\n",
    "Alk = 2300*10**-6 #mol/m^3\n",
    "pCO2 = (K2/(K1*K0))*((2*DIC-Alk)**2)/(Alk-DIC)\n",
    "\n",
    "DICb = DIC-(10*10**-6) #mol/m^3\n",
    "Alkb = Alk - (20*10**-6) #mol/m^3\n",
    "pCO2b = (K2/(K1*K0))*((2*DICb-Alkb)**2)/(Alkb-DICb)\n",
    "change = (pCO2b - pCO2)/pCO2*100\n",
    "\n",
    "print(f'The original CO2 partial pressure is {pCO2*10**6:0.3f} micro-atm.  The new CO2 partial pressure is {pCO2b*10**6:0.3f} micro-atm, a {change:0.3f}% increase')"
   ]
  },
  {
   "cell_type": "code",
   "execution_count": 15,
   "metadata": {},
   "outputs": [
    {
     "data": {
      "image/png": "[encoded data removed]",
      "text/plain": [
       "<Figure size 576x504 with 2 Axes>"
      ]
     },
     "metadata": {
      "needs_background": "light"
     },
     "output_type": "display_data"
    },
    {
     "name": "stdout",
     "output_type": "stream",
     "text": [
      "The new surface partial pressure of CO2 is 1188.554 micro-atm.  This is 798.554 micro-atm and 3.048 times larger than the present day value\n"
     ]
    }
   ],
   "source": [
    "##### ----- 6a ----- #####\n",
    "profile = loadmat('DIC_profile.mat')['DIC_profile']\n",
    "depth = profile[:,0]\n",
    "DIC = profile[:,1]\n",
    "\n",
    "##### ----- 6b ----- #####\n",
    "uniform_DIC = np.trapz(DIC, x = depth)/depth[-1] \n",
    "DICb = np.zeros(len(DIC))\n",
    "DICb[:] = uniform_DIC\n",
    "\n",
    "plt.rcParams['xtick.bottom'] = plt.rcParams['xtick.labelbottom'] = False\n",
    "plt.rcParams['xtick.top'] = plt.rcParams['xtick.labeltop'] = True\n",
    "\n",
    "fig,[ax1,ax2] = plt.subplots(1,2,figsize=(8,7))\n",
    "\n",
    "ax1.plot(DIC,depth)  \n",
    "ax1.set_xlabel('DIC (micro-mol/kg)')\n",
    "ax1.xaxis.set_label_position('top') \n",
    "ax1.set_ylabel('depth (m)')\n",
    "ax1.set_title('Globally-Averaged DIC profile', y=1.08)\n",
    "ax1.set_ylim([-5100,0])\n",
    "\n",
    "ax2.plot(DICb,depth)  \n",
    "ax2.set_xlabel('DIC (micro-mol/kg)')\n",
    "ax2.xaxis.set_label_position('top') \n",
    "ax2.set_ylabel('depth (m)')\n",
    "ax2.set_title('Uniform DIC profile', y=1.08)\n",
    "ax2.get_yaxis().set_visible(False)\n",
    "ax2.set_ylim([-5100,0])\n",
    "\n",
    "plt.show()\n",
    "\n",
    "##### ----- 6c ----- #####\n",
    "pCO2 = 390*10**-6 # (atm) present CO2 partial pressure\n",
    "Alk = 2380 # (micro-mol/kg) surface alkilinity\n",
    "DIC_surface = DICb[0] # (micro-mol/kg) surface DIC\n",
    "pK0 = 1.489\n",
    "pK1 = 5.882\n",
    "pK2 = 9.035\n",
    "K0 = (10**(-pK0))*10**6 # (micro-mol/kg*atm)\n",
    "K1 = (10**(-pK1))*10**6 # (micro-mol/kg)\n",
    "K2 = (10**(-pK2))*10**6 # (micro-mol/kg)\n",
    "\n",
    "pCO2b = (K2/(K1*K0))*((2*DIC_surface-Alk)**2)/(Alk-DIC_surface)\n",
    "change = pCO2b - pCO2\n",
    "change2 = pCO2b/pCO2\n",
    "print(f'The new surface partial pressure of CO2 is {pCO2b*10**6:.3f} micro-atm.  This is {change*10**6:0.3f} micro-atm and {change2:.3f} times larger than the present day value')"
   ]
  },
  {
   "cell_type": "code",
   "execution_count": null,
   "metadata": {},
   "outputs": [],
   "source": []
  }
 ],
 "metadata": {
  "kernelspec": {
   "display_name": "Python 3",
   "language": "python",
   "name": "python3"
  },
  "language_info": {
   "codemirror_mode": {
    "name": "ipython",
    "version": 3
   },
   "file_extension": ".py",
   "mimetype": "text/x-python",
   "name": "python",
   "nbconvert_exporter": "python",
   "pygments_lexer": "ipython3",
   "version": "3.7.1"
  }
 },
 "nbformat": 4,
 "nbformat_minor": 2
}
