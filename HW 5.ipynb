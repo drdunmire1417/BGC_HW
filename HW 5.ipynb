{
 "cells": [
  {
   "cell_type": "code",
   "execution_count": 1,
   "metadata": {},
   "outputs": [
    {
     "ename": "ModuleNotFoundError",
     "evalue": "No module named 'cartopy'",
     "output_type": "error",
     "traceback": [
      "\u001b[0;31m---------------------------------------------------------------------------\u001b[0m",
      "\u001b[0;31mModuleNotFoundError\u001b[0m                       Traceback (most recent call last)",
      "\u001b[0;32m<ipython-input-1-1cb8e8a97d14>\u001b[0m in \u001b[0;36m<module>\u001b[0;34m\u001b[0m\n\u001b[1;32m      1\u001b[0m \u001b[0;32mfrom\u001b[0m \u001b[0mscipy\u001b[0m\u001b[0;34m.\u001b[0m\u001b[0mio\u001b[0m \u001b[0;32mimport\u001b[0m \u001b[0mloadmat\u001b[0m\u001b[0;34m\u001b[0m\u001b[0;34m\u001b[0m\u001b[0m\n\u001b[1;32m      2\u001b[0m \u001b[0;32mimport\u001b[0m \u001b[0mnumpy\u001b[0m \u001b[0;32mas\u001b[0m \u001b[0mnp\u001b[0m\u001b[0;34m\u001b[0m\u001b[0;34m\u001b[0m\u001b[0m\n\u001b[0;32m----> 3\u001b[0;31m \u001b[0;32mfrom\u001b[0m \u001b[0mcartopy\u001b[0m \u001b[0;32mimport\u001b[0m \u001b[0mconfig\u001b[0m\u001b[0;34m\u001b[0m\u001b[0;34m\u001b[0m\u001b[0m\n\u001b[0m\u001b[1;32m      4\u001b[0m \u001b[0;31m#import cartopy.crs as ccrs\u001b[0m\u001b[0;34m\u001b[0m\u001b[0;34m\u001b[0m\u001b[0;34m\u001b[0m\u001b[0m\n",
      "\u001b[0;31mModuleNotFoundError\u001b[0m: No module named 'cartopy'"
     ]
    }
   ],
   "source": [
    "from scipy.io import loadmat\n",
    "import numpy as np\n",
    "from cartopy import config\n",
    "#import cartopy.crs as ccrs"
   ]
  },
  {
   "cell_type": "code",
   "execution_count": 3,
   "metadata": {},
   "outputs": [
    {
     "name": "stdout",
     "output_type": "stream",
     "text": [
      "hi\n",
      "x = 1\n",
      "x = 2\n"
     ]
    }
   ],
   "source": [
    "print(\"hi\")\n",
    "x = 1\n",
    "print(f\"x = {x}\")\n",
    "x = 2\n",
    "print(f\"x = {x}\")\n"
   ]
  },
  {
   "cell_type": "markdown",
   "metadata": {},
   "source": [
    "# 1\n",
    "autotrophic organisms can produce their on food using light (via\n",
    "photosynthesis).  In contrast, heterotrophic organisms rely on other\n",
    "organisms for food.\n",
    "\n",
    "phytoplankton - autotrophic??? but cocco, dino, and diatoms are\n",
    "phytoplankton\n",
    "zooplankton - heterotrophic\n",
    "\n",
    "fish - heterotrophic\n",
    "\n",
    "Bacteria - most are heterotrophic but some are autotrophs\n",
    "\n",
    "Diatoms - most are autotrophic\n",
    "\n",
    "Dinoflagellates - both, can photosynthesize and ingest organic particles\n",
    "\n",
    "coccolithophores - both, can photosynthesize and absorb organic matter"
   ]
  },
  {
   "cell_type": "markdown",
   "metadata": {},
   "source": [
    "# 2\n",
    "\n",
    "The f-ratio is the fraction of NPP that is sources from new nutrients\n",
    "\n",
    "$f = \\frac{new}{NPP}$\n",
    "\n",
    "The e-ratio is the fraction of NPP that leaves the euphotic zone.\n",
    "\n",
    "$e = \\frac{export}{NPP}$\n",
    "\n",
    "The assumption that the e-ration is the same as the f-ration over large spatial and temporal scales implies that the new production and the export production are the same over these scales.\n"
   ]
  },
  {
   "cell_type": "markdown",
   "metadata": {},
   "source": [
    "# 3\n",
    "ballast minerals are dense minerals that form shells around some phytoplankton (ex: calcium carbonate)\n",
    "\n",
    "$z* = \\frac{w_{sink}}{k_{remin}}$\n",
    "\n",
    "1) Ballast minerals make the organic matter larger (larger radius), which will make it sink faster (increase in $w_{sink}$)\n",
    "\n",
    "2) Ballast minerals will decrease the $k_{remin}$ constant which will increase the remineralization length scale"
   ]
  },
  {
   "cell_type": "markdown",
   "metadata": {},
   "source": [
    "# 4\n",
    "Based on the equation and code below, $\\textbf{B}$ will sink faster.\n",
    "\n",
    "$w_{sink} = \\frac{2gr^2(\\rho_p - \\rho_w)}{9\\mu}$ where r is the particle radius, $\\rho_p$ and $\\rho_w$ are the densities of the particle and sea water, respectively, and $\\mu$ is the seawater viscosity."
   ]
  },
  {
   "cell_type": "code",
   "execution_count": 3,
   "metadata": {},
   "outputs": [
    {
     "name": "stdout",
     "output_type": "stream",
     "text": [
      "Sinking velocity of A = 4.321e-04 m/s\n",
      "Sinking velocity of B = 7.692e-04 m/s\n"
     ]
    }
   ],
   "source": [
    "###### 4 ######\n",
    "OM_a = 0.9 #fraction organic matter\n",
    "OM_b = 0.75\n",
    "CaCO3_a = 0.02 #fraction calcium carbonate\n",
    "CaCO3_b = 0.2\n",
    "opal_a = 0.08 #fraction opal\n",
    "opal_b = 0.05\n",
    "r_a = 50*10**(-6) #radius (m)\n",
    "r_b = 40*10**(-6)\n",
    "\n",
    "rho_om = 1060 #density organic matter (kg/m^3)\n",
    "rho_ca = 2710 #density CaCO3 (kg/m^3)\n",
    "rho_opal = 2100 #density opal (kg/m^3)\n",
    "g = 9.8 #gravitational acceleration (m/s^2)\n",
    "rho_w = 1027 #average density sea water (kg/m^3)\n",
    "mu = 1.88*10**(-3) #sea water viscosity (Pa s)\n",
    "\n",
    "rho_a = rho_om*OM_a + rho_ca*CaCO3_a + rho_opal*opal_a #density of A\n",
    "rho_b = rho_om*OM_b + rho_ca*CaCO3_b + rho_opal*opal_b #density of B\n",
    "w_a = (2*g*r_a**2*(rho_a - rho_w))/(9*mu) #sinking velocity for A\n",
    "w_b = (2*g*r_b**2*(rho_b - rho_w))/(9*mu) #sinking velocity for A\n",
    "\n",
    "print(f'Sinking velocity of A = {w_a:0.3e} m/s')\n",
    "print(f'Sinking velocity of B = {w_b:0.3e} m/s')\n",
    "\n"
   ]
  },
  {
   "cell_type": "markdown",
   "metadata": {},
   "source": [
    "# 6\n",
    "### a\n",
    "The C:N:P ratio is 106:16:1\n",
    "### b\n",
    "The chemical equation for this reaction is: $(CH_2)_{30}(CH_2O)_{76}(NH_3)_{16}(H_3PO_4) + ?O_2 -> 106CO_2 + 16HNO3 + H_3PO_4 + ?H_2O$\n",
    "\n",
    "To balance the hydrogen moles on the left side of the reaction there needs to be 122 moles of $H_2O$ on the right.\n",
    "\n",
    "To balance the oxygen on the right side, there needs to be 153 moles of $O_2$ on the left.\n",
    "\n",
    "Thus, $\\textbf{153}$ moles of $O_2$ are required\n",
    "\n",
    "### c\n"
   ]
  },
  {
   "cell_type": "markdown",
   "metadata": {},
   "source": [
    "# 7\n",
    "\n",
    "The concentration of Calcium hardly varies in sea water and has a long residence time.  This means that any change in the Cd/Ca ratio is the result of a change in the ocean distribution of Cadmium.  The distribution of Cadmium is similar to that of nutrient elements (Nitrogen, Phosphorous, etc).  This means that the concentration of Cadmium is lowest in surface waters and its concentration is highest in the deep North Pacific.  An abrupt reduction in nutrient upwelling in the North Pacific would result in lower Cadmium concentrations IS THIS RIGHT??? (while the concentration of Calcium remains roughly constant).  This will result in a decrease in the Cd/Ca ratio, which is consistent with what is seen in Figure 1."
   ]
  },
  {
   "cell_type": "code",
   "execution_count": 24,
   "metadata": {},
   "outputs": [
    {
     "name": "stdout",
     "output_type": "stream",
     "text": [
      "2048\n",
      "(2048, 4096)\n"
     ]
    }
   ],
   "source": [
    "par = loadmat('par.mat')['par']\n",
    "sst = loadmat('sst.mat')['sst']\n",
    "chl = loadmat('chl.mat')['chl']\n",
    "(x,y) = sst.shape\n",
    "\n",
    "lat=np.linspace(-90,89,x)\n",
    "lon=np.linspace(-180,179,y)\n",
    "\n"
   ]
  },
  {
   "cell_type": "code",
   "execution_count": 36,
   "metadata": {},
   "outputs": [],
   "source": [
    "npp = np.zeros((x,y))\n",
    "\n",
    "for i in range(x):\n",
    "    for j in range(y):\n",
    "        npp[i,j] = npp_calc(sst[i,j], chl[i,j],par[i,j])"
   ]
  },
  {
   "cell_type": "code",
   "execution_count": 35,
   "metadata": {},
   "outputs": [],
   "source": [
    "def npp_calc(sst, chl, par):\n",
    "    # calculate par function\n",
    "    fpar = 0.66125*par/(par + 4.1)\n",
    "    \n",
    "    #Pb_opt\n",
    "    if (sst < -10.0): \n",
    "        pb_opt = 0; \n",
    "    elif (sst <  -1.0): \n",
    "        pb_opt = 1.13; \n",
    "    elif (sst >  28.5): \n",
    "        pb_opt = 4.00;\n",
    "    else:\n",
    "        pb_opt = 1.2956 + 2.749e-1*sst + 6.17e-2*sst**2 - 2.05e-2*sst**3+ 2.462e-3*sst**4 - 1.348e-4*sst**5 + 3.4132e-6*sst**6 - 3.27e-8*sst**7\n",
    "    \n",
    "    #Euphotic zone depth\n",
    "    if (chl <  1.0):\n",
    "        chl_tot = 38.0 * chl**0.425;\n",
    "    else:\n",
    "        chl_tot = 40.2 * chl**0.507;\n",
    "\n",
    "\n",
    "    z_eu = 200.0 * chl_tot**-.293;\n",
    "\n",
    "    if (z_eu <= 102.0): \n",
    "        z_eu = 568.2 * chl_tot**-.746;\n",
    "    \n",
    "    npp = pb_opt * chl  * fpar * z_eu\n",
    "    return npp\n",
    "    "
   ]
  },
  {
   "cell_type": "code",
   "execution_count": 38,
   "metadata": {},
   "outputs": [],
   "source": [
    "e  = -0.0081 * sst + 0.0806*np.log(chl) + 0.426"
   ]
  },
  {
   "cell_type": "code",
   "execution_count": 39,
   "metadata": {},
   "outputs": [
    {
     "ename": "ModuleNotFoundError",
     "evalue": "No module named 'mpl_toolkits.basemap'",
     "output_type": "error",
     "traceback": [
      "\u001b[0;31m---------------------------------------------------------------------------\u001b[0m",
      "\u001b[0;31mModuleNotFoundError\u001b[0m                       Traceback (most recent call last)",
      "\u001b[0;32m<ipython-input-39-ef6f79d725dd>\u001b[0m in \u001b[0;36m<module>\u001b[0;34m\u001b[0m\n\u001b[0;32m----> 1\u001b[0;31m \u001b[0;32mfrom\u001b[0m \u001b[0mmpl_toolkits\u001b[0m\u001b[0;34m.\u001b[0m\u001b[0mbasemap\u001b[0m \u001b[0;32mimport\u001b[0m \u001b[0mBasemap\u001b[0m\u001b[0;34m\u001b[0m\u001b[0;34m\u001b[0m\u001b[0m\n\u001b[0m\u001b[1;32m      2\u001b[0m \u001b[0;32mimport\u001b[0m \u001b[0mmatplotlib\u001b[0m\u001b[0;34m.\u001b[0m\u001b[0mpyplot\u001b[0m \u001b[0;32mas\u001b[0m \u001b[0mplt\u001b[0m\u001b[0;34m\u001b[0m\u001b[0;34m\u001b[0m\u001b[0m\n",
      "\u001b[0;31mModuleNotFoundError\u001b[0m: No module named 'mpl_toolkits.basemap'"
     ]
    }
   ],
   "source": []
  },
  {
   "cell_type": "code",
   "execution_count": null,
   "metadata": {},
   "outputs": [],
   "source": []
  }
 ],
 "metadata": {
  "kernelspec": {
   "display_name": "Python 3",
   "language": "python",
   "name": "python3"
  },
  "language_info": {
   "codemirror_mode": {
    "name": "ipython",
    "version": 3
   },
   "file_extension": ".py",
   "mimetype": "text/x-python",
   "name": "python",
   "nbconvert_exporter": "python",
   "pygments_lexer": "ipython3",
   "version": "3.7.1"
  }
 },
 "nbformat": 4,
 "nbformat_minor": 2
}
