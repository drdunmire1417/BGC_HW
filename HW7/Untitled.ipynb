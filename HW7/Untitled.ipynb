{
 "cells": [
  {
   "cell_type": "code",
   "execution_count": 1,
   "metadata": {},
   "outputs": [],
   "source": [
    "import numpy as np\n"
   ]
  },
  {
   "cell_type": "markdown",
   "metadata": {},
   "source": [
    "# 1\n",
    "aragonite - A form of calcium carbonate, less stable than calcite, pteropods make shells out of aragonite (~10% of ocean calcium carbonate)\n",
    "\n",
    "calcite - A form of calcium carbonate, most stable form at all ocean temperatures and pressures, coccolithophores and foraminifera make shells out of calcite (~90% of ocean calcium carbonate)\n",
    "\n",
    "calcium carbonate saturation horizon - The ocean depth where $\\Delta CO_3^{2-} = 0$ $(\\Delta CO_3^{2-} = [CO_3^{2-}] - [CO_3^{2-}]_{sat})$\n",
    "\n",
    "Rain ratio - The inorganic to organic carbon export ratio ($\\frac{\\phi_{CaCO_3}}{\\phi_{C_{org}}}$)"
   ]
  },
  {
   "cell_type": "code",
   "execution_count": null,
   "metadata": {},
   "outputs": [],
   "source": []
  }
 ],
 "metadata": {
  "kernelspec": {
   "display_name": "Python 3",
   "language": "python",
   "name": "python3"
  },
  "language_info": {
   "codemirror_mode": {
    "name": "ipython",
    "version": 3
   },
   "file_extension": ".py",
   "mimetype": "text/x-python",
   "name": "python",
   "nbconvert_exporter": "python",
   "pygments_lexer": "ipython3",
   "version": "3.6.8"
  }
 },
 "nbformat": 4,
 "nbformat_minor": 2
}
