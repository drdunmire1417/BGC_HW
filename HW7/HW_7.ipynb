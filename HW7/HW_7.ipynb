{
 "cells": [
  {
   "cell_type": "code",
   "execution_count": 1,
   "metadata": {},
   "outputs": [],
   "source": [
    "import numpy as np\n"
   ]
  },
  {
   "cell_type": "markdown",
   "metadata": {},
   "source": [
    "# 1\n",
    "aragonite - A form of calcium carbonate, less stable than calcite, pteropods make shells out of aragonite (~10% of ocean calcium carbonate)\n",
    "\n",
    "calcite - A form of calcium carbonate, most stable form at all ocean temperatures and pressures, coccolithophores and foraminifera make shells out of calcite (~90% of ocean calcium carbonate)\n",
    "\n",
    "calcium carbonate saturation horizon - The ocean depth where $\\Delta CO_3^{2-} = 0$ $(\\Delta CO_3^{2-} = [CO_3^{2-}] - [CO_3^{2-}]_{sat})$\n",
    "\n",
    "Rain ratio - The inorganic to organic carbon export ratio ($\\frac{\\phi_{CaCO_3}}{\\phi_{C_{org}}}$)"
   ]
  },
  {
   "cell_type": "markdown",
   "metadata": {},
   "source": [
    "# 2\n",
    "\n",
    "In the 2-box model, the rate of change of the surface concentration of Carbon is defined by:\n",
    "\n",
    "(1) $\\frac{dC_s}{dt} = \\frac{v}{V_s}(C_d - C_s) - \\frac{\\phi}{V_s}$\n",
    "\n",
    "Where $C_s$ is the surface Carbon concentration, $C_d$ is the deep ocean Carbon concentration, $v$ is the surface-deep ocean exchange rate, $V_s$ is the volume of the upper box (surface ocean), and $\\phi$ is the carbon export rate.  If we assume steady state, we get:\n",
    " \n",
    "(2) $\\frac{dC_s}{dt} = 0 = \\frac{v}{V_s}(C_d - C_s) - \\frac{\\phi}{V_s}$\n",
    "\n",
    "(3) $\\phi = v(C_d - C_s)$\n",
    "\n",
    "Next, we define potential Alkilinity: $P_{Alk} = Alk + [NO_3^-]$.  Variations in potential Alkilinity are governed only by the formation and dissolution of Calcium Carbonate, not by photosynthesis or remineralization. Using the vertical gradient of potential Alkilinity, we can define the downward export of $CaCO_3$:\n",
    "\n",
    "(4) $\\phi_{CaCO_3} = v*r_{CaCo_3:Alk}*([P_{Alk}]_d - [P_{Alk}]_s)$\n",
    "\n",
    "Where $r_{CaCo_3:Alk}$ is the ratio of Calcium Carbonate to Alkilinity.  We can also define the downward export of organic carbon in terms of the vertical gradient of Nitrate and the ratio of Carbon to Nitrogen ($r_{C:N}$):\n",
    "\n",
    "(5) $\\phi_{C_{org}} = v*r_{C:N}*([NO_3^-]_d - [NO_3^-]_s)$\n",
    "\n",
    "The rain ratio is the ratio of inorganic to organic Carbon export, or $\\frac{\\phi_{CaCO_3}}{\\phi_{C_{org}}}$.  Dividing equation (4) by (5) gives the rain ratio:\n",
    "\n",
    "(6) $\\frac{\\phi_{CaCO_3}}{\\phi_{C_{org}}} = \\frac{v*r_{CaCo_3:Alk}*([P_{Alk}]_d - [P_{Alk}]_s)}{v*r_{C:N}*([NO_3^-]_d - [NO_3^-]_s)}$\n",
    "\n",
    "The ratio of Carbon to Nitrogen ($R_{C:N}$) is determined by Redfield's ratio.  Thus, $R_{C:N}$ = 106/16.  The ratio of $CaCO_3$ to Alkilinity ($r_{CaCo_3:Alk}$) is ... HELP ....  Thus, $r_{CaCo_3:Alk}$ = 1/2. Plugging these numbers into equation (6) and simplifying gives:\n",
    "\n",
    "(7) $\\frac{\\phi_{CaCO_3}}{\\phi_{C_{org}}} = \\frac{([P_{Alk}]_d - [P_{Alk}]_s)}{13.25*([NO_3^-]_d - [NO_3^-]_s)}$"
   ]
  },
  {
   "cell_type": "markdown",
   "metadata": {},
   "source": [
    "# 3\n",
    "\n",
    "The primary driver for dissolution of CaCO3 is the state of saturation of the water with respect to the mineral phase: $\\Omega = \\frac{[CO_3^{2-}][Ca^{2+}]}{K_{sp}^{CaCO_3}}$"
   ]
  },
  {
   "cell_type": "markdown",
   "metadata": {},
   "source": [
    "# 4\n",
    "\n",
    "The following equations are used to calculate the saturation states of Calcite and Aragonite:\n",
    "\n",
    "$\\Delta CO_3^{2-} = [CO_3^{2-}]_{obs} - [CO_3^{2-}]_{sat}$\n",
    "\n",
    "$\\Omega = \\frac{[CO_3^{2-}]_{obs}}{[CO_3^{2-}]_{sat}}$\n",
    "\n",
    "where $[CO_3^{2-}]_{obs} = Alk - DIC$"
   ]
  },
  {
   "cell_type": "code",
   "execution_count": 4,
   "metadata": {},
   "outputs": [
    {
     "name": "stdout",
     "output_type": "stream",
     "text": [
      "-24.200000000000003 0.8051529790660226\n",
      "-83.69999999999999 0.5443658138268918\n"
     ]
    }
   ],
   "source": [
    "DIC = 2300 #Dissolved inorganic carbon (micro-mol/kg)\n",
    "Alk = 2400 #Alkilinity (micro-mol/kg)\n",
    "cal_sat = 124.2 #Saturation concentration of Calcite at depth = 6000dbar, T = 0C, S = 35\n",
    "arg_sat = 183.7 #Saturation concentration of Aragonite at depth = 6000dbar, T = 0C, S = 35\n",
    "\n",
    "CO3_obs = Alk - DIC #observed concentration of CO3\n",
    "delCO3_cal = CO3_obs - cal_sat #Saturation state Delta CO3 for calcite\n",
    "delCO3_arg = CO3_obs - arg_sat #Saturation state Delta CO3 for aragonite\n",
    "ohm_cal = CO3_obs/cal_sat #Saturation state omega for calcite\n",
    "ohm_arg = CO3_obs/arg_sat #Saturation state omega for aragonite\n",
    "\n",
    "print(delCO3_cal, ohm_cal)\n",
    "print(delCO3_arg, ohm_arg)"
   ]
  },
  {
   "cell_type": "markdown",
   "metadata": {},
   "source": [
    "For calcite, $\\Delta CO_3^{2-}$ = -24.2 micro-mol/kg and $\\Omega$ = 0.805\n",
    "\n",
    "For aragonite, $\\Delta CO_3^{2-}$ = -83.7 micro-mol/kg and $\\Omega$ = 0.544\n",
    "\n",
    "Both calcite and aragonite are undersaturated."
   ]
  },
  {
   "cell_type": "code",
   "execution_count": null,
   "metadata": {},
   "outputs": [],
   "source": []
  }
 ],
 "metadata": {
  "kernelspec": {
   "display_name": "Python 3",
   "language": "python",
   "name": "python3"
  },
  "language_info": {
   "codemirror_mode": {
    "name": "ipython",
    "version": 3
   },
   "file_extension": ".py",
   "mimetype": "text/x-python",
   "name": "python",
   "nbconvert_exporter": "python",
   "pygments_lexer": "ipython3",
   "version": "3.6.8"
  }
 },
 "nbformat": 4,
 "nbformat_minor": 2
}
