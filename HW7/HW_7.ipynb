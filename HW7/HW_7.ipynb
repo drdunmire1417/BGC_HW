{
 "cells": [
  {
   "cell_type": "code",
   "execution_count": 1,
   "metadata": {},
   "outputs": [],
   "source": [
    "import numpy as np\n"
   ]
  },
  {
   "cell_type": "markdown",
   "metadata": {},
   "source": [
    "# 1\n",
    "aragonite - A form of calcium carbonate, less stable than calcite, pteropods make shells out of aragonite (~10% of ocean calcium carbonate)\n",
    "\n",
    "calcite - A form of calcium carbonate, most stable form at all ocean temperatures and pressures, coccolithophores and foraminifera make shells out of calcite (~90% of ocean calcium carbonate)\n",
    "\n",
    "calcium carbonate saturation horizon - The depth at which the ocean becomes saturated with respect to calcium carbonate. This occurs where $\\Delta CO_3^{2-} = 0$ $(\\Delta CO_3^{2-} = [CO_3^{2-}] - [CO_3^{2-}]_{sat})$\n",
    "\n",
    "Rain ratio - The inorganic to organic carbon export ratio ($\\frac{\\phi_{CaCO_3}}{\\phi_{C_{org}}}$)"
   ]
  },
  {
   "cell_type": "markdown",
   "metadata": {},
   "source": [
    "# 2\n",
    "\n",
    "In the 2-box model, the rate of change of the surface concentration of Carbon is defined by:\n",
    "\n",
    "(1) $\\frac{dC_s}{dt} = \\frac{v}{V_s}(C_d - C_s) - \\frac{\\phi}{V_s}$\n",
    "\n",
    "Where $C_s$ is the surface Carbon concentration, $C_d$ is the deep ocean Carbon concentration, $v$ is the surface-deep ocean exchange rate, $V_s$ is the volume of the upper box (surface ocean), and $\\phi$ is the carbon export rate.  If we assume steady state, we get:\n",
    " \n",
    "(2) $\\frac{dC_s}{dt} = 0 = \\frac{v}{V_s}(C_d - C_s) - \\frac{\\phi}{V_s}$\n",
    "\n",
    "(3) $\\phi = v(C_d - C_s)$\n",
    "\n",
    "Next, we define potential Alkilinity: $P_{Alk} = Alk + [NO_3^-]$.  Variations in potential Alkilinity are governed only by the formation and dissolution of Calcium Carbonate, not by photosynthesis or remineralization. Using the vertical gradient of potential Alkilinity, we can define the downward export of $CaCO_3$:\n",
    "\n",
    "(4) $\\phi_{CaCO_3} = v*r_{CaCo_3:Alk}*([P_{Alk}]_d - [P_{Alk}]_s)$\n",
    "\n",
    "Where $r_{CaCo_3:Alk}$ is the ratio of Calcium Carbonate to Alkilinity.  We can also define the downward export of organic carbon in terms of the vertical gradient of Nitrate and the ratio of Carbon to Nitrogen ($r_{C:N}$):\n",
    "\n",
    "(5) $\\phi_{C_{org}} = v*r_{C:N}*([NO_3^-]_d - [NO_3^-]_s)$\n",
    "\n",
    "The rain ratio is the ratio of inorganic to organic Carbon export, or $\\frac{\\phi_{CaCO_3}}{\\phi_{C_{org}}}$.  Dividing equation (4) by (5) gives the rain ratio:\n",
    "\n",
    "(6) $\\frac{\\phi_{CaCO_3}}{\\phi_{C_{org}}} = \\frac{v*r_{CaCo_3:Alk}*([P_{Alk}]_d - [P_{Alk}]_s)}{v*r_{C:N}*([NO_3^-]_d - [NO_3^-]_s)}$\n",
    "\n",
    "The ratio of Carbon to Nitrogen ($r_{C:N}$) is determined by Redfield's ratio.  Thus, $r_{C:N}$ = 106/16.  The ratio of $CaCO_3$ to Alkilinity ($r_{CaCo_3:Alk}$) is determined by the chemical expression: Alk = HCO3 + 2CO3  Thus, $r_{CaCo_3:Alk}$ = 2. Plugging these numbers into equation (6) and simplifying gives:\n",
    "\n",
    "(7) $\\frac{\\phi_{CaCO_3}}{\\phi_{C_{org}}} = \\frac{([P_{Alk}]_d - [P_{Alk}]_s)}{13.25*([NO_3^-]_d - [NO_3^-]_s)}$"
   ]
  },
  {
   "cell_type": "markdown",
   "metadata": {},
   "source": [
    "# 3\n",
    "\n",
    "### a\n",
    "Biological activity is the primary driver of the remineralization or organic matter.  The dissolution of $CaCO_3$ is different because biological activity plays no role.  The process that drives calcium carbonate dissolution is physics or kinetics.\n",
    "\n",
    "### b\n",
    "Maximum remineralization of organic matter is found in the upper ocean, above 100 meters.  The dissolution of calcium carbonate occurs deeper than remineralization\n",
    "\n",
    "### c\n",
    "As organic matter falls through the water column, approximately 99% gets remineralized.  In contrast, approximately 50% of calcium carbonate gets dissolve although this is much less certain."
   ]
  },
  {
   "cell_type": "markdown",
   "metadata": {},
   "source": [
    "# 4\n",
    "\n",
    "The following equations are used to calculate the saturation states of Calcite and Aragonite:\n",
    "\n",
    "$\\Delta CO_3^{2-} = [CO_3^{2-}]_{obs} - [CO_3^{2-}]_{sat}$\n",
    "\n",
    "$\\Omega = \\frac{[CO_3^{2-}]_{obs}}{[CO_3^{2-}]_{sat}}$\n",
    "\n",
    "where $[CO_3^{2-}]_{obs} = Alk - DIC$"
   ]
  },
  {
   "cell_type": "code",
   "execution_count": 4,
   "metadata": {},
   "outputs": [
    {
     "name": "stdout",
     "output_type": "stream",
     "text": [
      "-24.200000000000003 0.8051529790660226\n",
      "-83.69999999999999 0.5443658138268918\n"
     ]
    }
   ],
   "source": [
    "DIC = 2300 #Dissolved inorganic carbon (micro-mol/kg)\n",
    "Alk = 2400 #Alkilinity (micro-mol/kg)\n",
    "cal_sat = 124.2 #Saturation concentration of Calcite at depth = 6000dbar, T = 0C, S = 35\n",
    "arg_sat = 183.7 #Saturation concentration of Aragonite at depth = 6000dbar, T = 0C, S = 35\n",
    "\n",
    "CO3_obs = Alk - DIC #observed concentration of CO3\n",
    "delCO3_cal = CO3_obs - cal_sat #Saturation state Delta CO3 for calcite\n",
    "delCO3_arg = CO3_obs - arg_sat #Saturation state Delta CO3 for aragonite\n",
    "ohm_cal = CO3_obs/cal_sat #Saturation state omega for calcite\n",
    "ohm_arg = CO3_obs/arg_sat #Saturation state omega for aragonite\n",
    "\n",
    "print(delCO3_cal, ohm_cal)\n",
    "print(delCO3_arg, ohm_arg)"
   ]
  },
  {
   "cell_type": "markdown",
   "metadata": {},
   "source": [
    "For calcite, $\\Delta CO_3^{2-}$ = -24.2 micro-mol/kg and $\\Omega$ = 0.805\n",
    "\n",
    "For aragonite, $\\Delta CO_3^{2-}$ = -83.7 micro-mol/kg and $\\Omega$ = 0.544\n",
    "\n",
    "Both calcite and aragonite are undersaturated."
   ]
  },
  {
   "cell_type": "markdown",
   "metadata": {},
   "source": [
    "# 5\n",
    "\n",
    "The saturation horizon is the depth at which $\\Delta CO_3^{2-} = 0$ \n",
    "\n",
    "$\\Delta CO_3^{2-} = [CO_3^{2-}]_{obs} - [CO_3^{2-}]_{sat}$ \n",
    "\n",
    "Thus at the saturation horizon, $[CO_3^{2-}]_{obs} = [CO_3^{2-}]_{sat}$\n",
    "\n",
    "The saturation state with depth is roughly the same for the Atlantic and North Pacific so any difference in saturation horizon must be due to a difference in $CO_3^{2-}$ concentration. \n",
    "\n",
    "$[CO_3^{2-}]_{obs} = Alk - DIC$\n",
    "\n",
    "Alkilinity is roughly constant with depth in the ocean. However, DIC increases from the Atlantic ocean to the North Pacific following the overturning circulation.  The increase in DIC leads to a corresponding increase in $[CO_3^{2-}]_{obs}$ which shifts the curve of $[CO_3^{2-}]_{obs}$ with depth closer to the saturation curve, thus increasing the saturation horizon."
   ]
  },
  {
   "cell_type": "markdown",
   "metadata": {},
   "source": [
    "# 6\n",
    "\n",
    "An increase in ocean $CO_2$ from the atmosphere will lead to an increase in DIC. According to the equation $[CO_3^{2-}]_{obs} = Alk - DIC$, an increase in DIC will correspondingly decrease $[CO_3^{2-}]$ and $\\Delta CO_3^{2-}$, assuming that Alkilinity remains constant. A decrease in $\\Delta CO_3^{2-}$ will lead to a higher saturation horizon.\n",
    "\n",
    "A decrease in $[CO_3^{2-}]$ will decrease $\\Omega$ meaning the ocean will become more undersaturated with respect to $[CO_3^{2-}]$.  Following the equation for the : $\\frac{d[CaCO_3]}{dt} = - [CaCO_3]* k_{CaCO_3} * (1-\\Omega)^n$ if $\\Omega$ decreases, the rate of calcium carbonate dissolution will increase.\n",
    "\n",
    "\n"
   ]
  },
  {
   "cell_type": "markdown",
   "metadata": {},
   "source": [
    "# 7\n",
    "\n",
    "The following equation is used to solve 7a and b:\n",
    "\n",
    "$\\frac{d[CaCO_3]}{dt} = -w_{sink}\\frac{[CaCO_3]}{dz} - [CaCO_3]k(1-\\Omega (z))^n$"
   ]
  },
  {
   "cell_type": "code",
   "execution_count": 1,
   "metadata": {},
   "outputs": [
    {
     "name": "stdout",
     "output_type": "stream",
     "text": [
      "The fraction of CaCO3 that arrives at 4000m for case a is 92.2%\n"
     ]
    }
   ],
   "source": [
    "# ------- a ------- #\n",
    "w_sink = 50 #sinking speed (m/day)\n",
    "n = 1 #first order dissolution kinetics\n",
    "k = 0.01 #day^-1\n",
    "initial = 1 #initial fraction of CaCo3 (at 100 m)\n",
    "distance = 4000-100 #sinking distance (m)\n",
    "days = distance/w_sink #days to sink to 4000 m\n",
    "\n",
    "omega = 0.9\n",
    "\n",
    "rate = -k*(1-omega)**n #fraction lost per day\n",
    "\n",
    "lost = days*rate #total fraction lost\n",
    "\n",
    "final = initial + initial*lost #final fraction of CaCO3 that arrives at 4000m\n",
    "\n",
    "print(f'The fraction of CaCO3 that arrives at 4000m for case a is {final*100}%')\n",
    "\n"
   ]
  },
  {
   "cell_type": "markdown",
   "metadata": {},
   "source": [
    "### b\n",
    "89% of calcium carbonate reaches 4000 meters\n",
    "\n",
    "see image 7b in folder for work"
   ]
  },
  {
   "cell_type": "code",
   "execution_count": null,
   "metadata": {},
   "outputs": [],
   "source": []
  }
 ],
 "metadata": {
  "kernelspec": {
   "display_name": "Python 3",
   "language": "python",
   "name": "python3"
  },
  "language_info": {
   "codemirror_mode": {
    "name": "ipython",
    "version": 3
   },
   "file_extension": ".py",
   "mimetype": "text/x-python",
   "name": "python",
   "nbconvert_exporter": "python",
   "pygments_lexer": "ipython3",
   "version": "3.7.2"
  }
 },
 "nbformat": 4,
 "nbformat_minor": 2
}
