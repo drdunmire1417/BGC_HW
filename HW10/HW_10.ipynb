{
 "cells": [
  {
   "cell_type": "code",
   "execution_count": 1,
   "metadata": {},
   "outputs": [],
   "source": [
    "import numpy as np"
   ]
  },
  {
   "cell_type": "markdown",
   "metadata": {},
   "source": [
    "# 1"
   ]
  },
  {
   "cell_type": "code",
   "execution_count": 2,
   "metadata": {},
   "outputs": [
    {
     "name": "stdout",
     "output_type": "stream",
     "text": [
      "1442564240.3079956\n",
      " The surface ocean DIC would have decreased by 8.877 mmol/m^3\n"
     ]
    }
   ],
   "source": [
    "Fe = 3800 #(kg) iron\n",
    "Fe = Fe * 1000 #(g)\n",
    "MW_fe = 55.8450 #(g/mol) molecular weight of iron\n",
    "Fe = Fe / MW_fe #(mole)\n",
    "C = 106/0.005 * Fe #mol Carbon\n",
    "print(C)\n",
    "C = C * 1000 #mmol\n",
    "\n",
    "V = 50000*50000*65 #(m^3)\n",
    "DIC = C/V\n",
    "print(f' The surface ocean DIC would have decreased by {DIC:0.3f} mmol/m^3')"
   ]
  },
  {
   "cell_type": "markdown",
   "metadata": {},
   "source": [
    "# 2\n",
    "\n",
    "The \"iron hypothesis\" suggests that a lack of iron in the ocean prevents phytoplankton from achieving an algal bloom. The idea behind iron fertilization is that introducing iron in iron-poor regions will enhance phytoplankton productivity, decreasing surface ocean DIC and thus increasing the flux of anthropogenic carbon from the atmosphere to the surface ocean.  It has been proposed as a geo-engineering solution to combat climate change. To test the iron hypothesis, you want to perform experiments by introducing iron where other nutrients necessary for photosynthesis are abundant but there is low iron availability. If other nutrients are limited, than the introduction of iron wont matter because photosynthesis will be limited anyways. One consequence of low iron availability is low chlorophyll concentrations. For these reasons, iron fertilization experiments have been conducted in high nutrient-low chlorophyll regions."
   ]
  },
  {
   "cell_type": "markdown",
   "metadata": {},
   "source": [
    "# 3\n",
    "\n",
    "If we assume that the concentration of iron in the ocean is in steady state, than the residence time of iron in the ocean is given by:\n",
    "\n",
    "$\\tau = \\frac{C_{oc} * V_{oc}}{v_{river}*C_{river}}$\n",
    "\n",
    "where $C_{oc}$ and $C_{river}$ are the ocean and river concentrations of iron, respectively, $V_{oc}$ is the ocean volume, and $v_{river}$ is the volumetric river input to the ocean."
   ]
  },
  {
   "cell_type": "code",
   "execution_count": 8,
   "metadata": {},
   "outputs": [
    {
     "name": "stdout",
     "output_type": "stream",
     "text": [
      "The residence time of river-source iron in the ocean is 34.865 years\n",
      "The residence time of aeolian-source iron in the ocean is 0.000 seconds\n"
     ]
    }
   ],
   "source": [
    "### --- a --- ###\n",
    "\n",
    "V = 1.29*10**18 #Ocean volume (m^3)\n",
    "river = 3.7*10**13 #river input (m^3/yr)\n",
    "C_river = 700 #micro-mol/m^3\n",
    "C_oc = 0.7 #micro-mol/m^3\n",
    "\n",
    "t = C_oc * V/(river*C_river)\n",
    "\n",
    "print(f'The residence time of river-source iron in the ocean is {t:0.3f} years')\n",
    "\n",
    "### --- b --- ###\n",
    "dust = 3*10**11\n",
    "soluble_fe = 0.02*dust*10**6 #micro-mol Fe/year\n",
    "time = C_oc/soluble_fe * 365 * 24 * 3600\n",
    "\n",
    "print(f'The residence time of aeolian-source iron in the ocean is {time:0.3f} seconds')"
   ]
  },
  {
   "cell_type": "markdown",
   "metadata": {},
   "source": [
    "# 4\n",
    "Dust is a source of $Fe^{2+}$, a more soluble form of iron that phytoplankton prefer for photosynthesis. A high concentrations of dust in the atmosphere means there is more soluble iron in the atmosphere which means there will be an increased flux of soluble iron from the atmosphere to the ocean. Phytoplankton need a small amount of iron to build proteins and enzymes which are used for photosynthesis, nitrate utilization, and nitrogen fixation. If there is an iron increase in iron-poor oceanic regions then chlorophyll and net primary production will increase, leading to a decrease in surface ocean DIC.  If the surface ocean DIC decreases, then the surface ocean can uptake more carbon dioxide from the atmosphere.  In this way, an increase in atmospheric dust could have led to a decrease in atmospheric $CO_2$ during the last glacial maximum."
   ]
  },
  {
   "cell_type": "markdown",
   "metadata": {},
   "source": [
    "# 5\n",
    "No, I do not think that iron fertilization is an appropriate geoengineering solution to the global warming problem.\n",
    "\n",
    "1) You have to continuously add an extreme amount of iron to the ocean in order to minorly reduce atmospheric $pCO_2$.\n",
    "\n",
    "2) Even if we are able to add enough iron to the ocean to counteract $CO_2$ emission there is no guarantee that all of the organic matter will be exported out of the aphotic zone.  In fact, the SOIREE experiment found \"no discernable increase in export production following Fe fertilization\", meaning that the surface ocean won't actually be able to uptake more Carbon.\n",
    "\n",
    "3) There are unintended consequences of iron fertalization such as reduction in biodiversity, dimethyl sulfide production, and enhanced $N_2O$ emissions"
   ]
  },
  {
   "cell_type": "markdown",
   "metadata": {},
   "source": [
    "# 6\n",
    "\n",
    "The place where we live is warming. Many people are worried and are trying to find fixes to this warming problem.  One fix is to add stuff to the sky to return the sun light. Another fix is to put more trees in the ground or to better the places where we make food. A third fix is put stuff into the big blue water thing so that it can take the things out of the sky that warm where we live. Most of these fixes would not help and many of them have problems with them.  Like, if we put stuff into the big blue water thing then how will the animals respond? Or if we put stuff into the sky, then what else might happen?"
   ]
  },
  {
   "cell_type": "code",
   "execution_count": null,
   "metadata": {},
   "outputs": [],
   "source": []
  }
 ],
 "metadata": {
  "kernelspec": {
   "display_name": "Python 3",
   "language": "python",
   "name": "python3"
  },
  "language_info": {
   "codemirror_mode": {
    "name": "ipython",
    "version": 3
   },
   "file_extension": ".py",
   "mimetype": "text/x-python",
   "name": "python",
   "nbconvert_exporter": "python",
   "pygments_lexer": "ipython3",
   "version": "3.7.1"
  }
 },
 "nbformat": 4,
 "nbformat_minor": 2
}
